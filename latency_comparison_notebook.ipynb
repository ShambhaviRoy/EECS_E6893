{
  "nbformat": 4,
  "nbformat_minor": 0,
  "metadata": {
    "colab": {
      "name": "latency_comparison.ipynb",
      "provenance": []
    },
    "kernelspec": {
      "name": "python3",
      "display_name": "Python 3"
    },
    "language_info": {
      "name": "python"
    }
  },
  "cells": [
    {
      "cell_type": "code",
      "metadata": {
        "id": "SnK9qlcZFtOc"
      },
      "source": [
        "from textblob import TextBlob"
      ],
      "execution_count": null,
      "outputs": []
    },
    {
      "cell_type": "code",
      "metadata": {
        "colab": {
          "base_uri": "https://localhost:8080/"
        },
        "id": "crH2cZjRwTke",
        "outputId": "ca24228e-3fbb-4364-8526-25f4990c8eef"
      },
      "source": [
        "from google.colab import drive\n",
        "drive.mount('/content/gdrive')"
      ],
      "execution_count": null,
      "outputs": [
        {
          "output_type": "stream",
          "text": [
            "Mounted at /content/gdrive\n"
          ],
          "name": "stdout"
        }
      ]
    },
    {
      "cell_type": "code",
      "metadata": {
        "id": "CM3OwBK6FgYN"
      },
      "source": [
        "from pydrive.auth import GoogleAuth\n",
        "from pydrive.drive import GoogleDrive\n",
        "from google.colab import auth\n",
        "from oauth2client.client import GoogleCredentials\n",
        "\n",
        "# Authenticate and create the PyDrive client.\n",
        "# This only needs to be done once per notebook.\n",
        "auth.authenticate_user()\n",
        "gauth = GoogleAuth()\n",
        "gauth.credentials = GoogleCredentials.get_application_default()\n",
        "drive = GoogleDrive(gauth)"
      ],
      "execution_count": null,
      "outputs": []
    },
    {
      "cell_type": "code",
      "metadata": {
        "colab": {
          "base_uri": "https://localhost:8080/"
        },
        "id": "c74Z0ZI1HqVL",
        "outputId": "16c556a1-fe50-4470-eb4d-d85ba89bb9b5"
      },
      "source": [
        "from collections import Counter\n",
        "import time\n",
        "# model.eval()\n",
        "\n",
        "predictions = []\n",
        "bert_times_recorded = []\n",
        "negs = []\n",
        "pos = []\n",
        "neus = []\n",
        "total_count = 0.0\n",
        "\n",
        "initial_time = 0\n",
        "total_batches = int(len(real_data)/1000)\n",
        "for i in range(total_batches):\n",
        "  batch = real_data[i:1000*(i+1)]\n",
        "  batch_pred = []\n",
        "  start_time = time.time()\n",
        "  for line in batch:\n",
        "    pred = TextBlob(line).sentiment.polarity\n",
        "    if pred>0.3:\n",
        "      batch_pred.append('positive')\n",
        "    elif pred<-0.3:\n",
        "      batch_pred.append('negative')\n",
        "    else:\n",
        "      batch_pred.append('neutral')\n",
        "    # batch_pred.append(pred)\n",
        "  # print(batch)\n",
        "  end_time = time.time()\n",
        "  total_count+=len(batch)\n",
        "  # batch = tuple(t.to(device) for t in batch)\n",
        "  \n",
        "  # b_input_ids, b_input_mask = batch\n",
        "\n",
        "  # with torch.no_grad():\n",
        "\n",
        "  #     result = model(b_input_ids, \n",
        "  #                    token_type_ids=None, \n",
        "  #                    attention_mask=b_input_mask,\n",
        "  #                    return_dict=True)\n",
        "\n",
        "  # logits = result.logits\n",
        "  # logits = logits.detach().cpu().numpy()\n",
        "\n",
        "  initial_time+=(end_time-start_time)\n",
        "  bert_times_recorded.append(initial_time)  \n",
        "  # logits=list(np.argmax(logits,axis=1))\n",
        "  # for i in range(len(logits)):\n",
        "  # logits_ = []\n",
        "  # for l in logits:\n",
        "  #   if l==0:\n",
        "  #     logits_.append('negative')\n",
        "  #   elif l==1:\n",
        "  #     logits_.append('neutral')\n",
        "  #   else:\n",
        "  #     logits_.append('postive')\n",
        "  predictions+=(batch_pred)\n",
        "  dict_ = dict(Counter(predictions))\n",
        "  negs.append(float(dict_['negative'])/total_count)\n",
        "  pos.append(float(dict_['positive'])/total_count)\n",
        "  neus.append(float(dict_['neutral'])/total_count)\n",
        "  # for key in dict_:\n",
        "  #   dict_[key] = [dict_[key]]\n",
        "  # print(dict_)\n",
        "  # pd.DataFrame(dict_).to_csv('real_time_bert_pred.csv')\n",
        "  # time.sleep(10)\n",
        "    \n",
        "\n",
        "print('    DONE.')"
      ],
      "execution_count": null,
      "outputs": [
        {
          "output_type": "stream",
          "text": [
            "    DONE.\n"
          ],
          "name": "stdout"
        }
      ]
    },
    {
      "cell_type": "code",
      "metadata": {
        "colab": {
          "base_uri": "https://localhost:8080/",
          "height": 281
        },
        "id": "bSoGMKyDS5qE",
        "outputId": "daade0ee-a851-411e-fd6d-73d35bcd0aa8"
      },
      "source": [
        "import matplotlib.pyplot as plt\n",
        "import numpy as np\n",
        "plt.bar(np.arange(len(pos))-0.1, pos, color='blue', width= 0.1,label = 'positive sentiment')\n",
        "plt.bar(np.arange(len(negs)), negs, color='red', width=0.1, label = 'negative sentiment')\n",
        "plt.bar(np.arange(len(neus))+0.1, neus, color='green', width= 0.1, label = 'neutal sentiment')\n",
        "plt.legend()\n",
        "plt.title('textblob prediction')\n",
        "plt.show()"
      ],
      "execution_count": null,
      "outputs": [
        {
          "output_type": "display_data",
          "data": {
            "image/png": "[encoded data removed]",
            "text/plain": [
              "<Figure size 432x288 with 1 Axes>"
            ]
          },
          "metadata": {
            "tags": [],
            "needs_background": "light"
          }
        }
      ]
    },
    {
      "cell_type": "code",
      "metadata": {
        "id": "PVsutSUvTEJ-"
      },
      "source": [
        "import pandas as pd\n",
        "pd.DataFrame({'time':bert_times_recorded}).to_csv(\"text_blob_time.csv\", index=False)"
      ],
      "execution_count": null,
      "outputs": []
    },
    {
      "cell_type": "code",
      "metadata": {
        "colab": {
          "base_uri": "https://localhost:8080/",
          "height": 313
        },
        "id": "70pK-BilUN2g",
        "outputId": "25f15c0e-b73e-4fe3-ae8d-59814393d956"
      },
      "source": [
        "plt.plot(np.arange(len(bert_times_recorded)), bert_times_recorded)\n",
        "plt.xlabel(\"batches\")\n",
        "plt.ylabel(\"time taken\")\n",
        "plt.title(\"textblob latency\")\n",
        "plt.legend()\n",
        "plt.show()"
      ],
      "execution_count": null,
      "outputs": [
        {
          "output_type": "stream",
          "text": [
            "WARNING:matplotlib.legend:No handles with labels found to put in legend.\n"
          ],
          "name": "stderr"
        },
        {
          "output_type": "display_data",
          "data": {
            "image/png": "[encoded data removed]",
            "text/plain": [
              "<Figure size 432x288 with 1 Axes>"
            ]
          },
          "metadata": {
            "tags": [],
            "needs_background": "light"
          }
        }
      ]
    },
    {
      "cell_type": "code",
      "metadata": {
        "colab": {
          "base_uri": "https://localhost:8080/",
          "height": 206
        },
        "id": "zq1mWVqta8sz",
        "outputId": "b74357fc-4a16-4338-8dcf-3eb4bc1ae3b4"
      },
      "source": [
        "bert = pd.read_csv(\"bert_latency.csv\")\n",
        "bert.head()"
      ],
      "execution_count": null,
      "outputs": [
        {
          "output_type": "execute_result",
          "data": {
            "text/html": [
              "<div>\n",
              "<style scoped>\n",
              "    .dataframe tbody tr th:only-of-type {\n",
              "        vertical-align: middle;\n",
              "    }\n",
              "\n",
              "    .dataframe tbody tr th {\n",
              "        vertical-align: top;\n",
              "    }\n",
              "\n",
              "    .dataframe thead th {\n",
              "        text-align: right;\n",
              "    }\n",
              "</style>\n",
              "<table border=\"1\" class=\"dataframe\">\n",
              "  <thead>\n",
              "    <tr style=\"text-align: right;\">\n",
              "      <th></th>\n",
              "      <th>time</th>\n",
              "    </tr>\n",
              "  </thead>\n",
              "  <tbody>\n",
              "    <tr>\n",
              "      <th>0</th>\n",
              "      <td>6.699917</td>\n",
              "    </tr>\n",
              "    <tr>\n",
              "      <th>1</th>\n",
              "      <td>13.398239</td>\n",
              "    </tr>\n",
              "    <tr>\n",
              "      <th>2</th>\n",
              "      <td>20.186589</td>\n",
              "    </tr>\n",
              "    <tr>\n",
              "      <th>3</th>\n",
              "      <td>26.967507</td>\n",
              "    </tr>\n",
              "    <tr>\n",
              "      <th>4</th>\n",
              "      <td>33.818141</td>\n",
              "    </tr>\n",
              "  </tbody>\n",
              "</table>\n",
              "</div>"
            ],
            "text/plain": [
              "        time\n",
              "0   6.699917\n",
              "1  13.398239\n",
              "2  20.186589\n",
              "3  26.967507\n",
              "4  33.818141"
            ]
          },
          "metadata": {
            "tags": []
          },
          "execution_count": 32
        }
      ]
    },
    {
      "cell_type": "code",
      "metadata": {
        "colab": {
          "base_uri": "https://localhost:8080/",
          "height": 295
        },
        "id": "k7zvILe1bGyH",
        "outputId": "9672a520-fdd6-4547-daab-489877eb149b"
      },
      "source": [
        "bert = pd.read_csv(\"bert_latency.csv\")\n",
        "bert_ = bert['time'].tolist()\n",
        "text_blob = bert_times_recorded\n",
        "plt.plot(np.arange(len(bert_)), bert_, color='blue', label='BERT')\n",
        "plt.plot(np.arange(len(text_blob)), text_blob, color='red', label = \"text blob\")\n",
        "plt.xlabel(\"batches\")\n",
        "plt.ylabel(\"time taken\")\n",
        "plt.title(\"textblob latency\")\n",
        "plt.legend()\n",
        "plt.show()"
      ],
      "execution_count": null,
      "outputs": [
        {
          "output_type": "display_data",
          "data": {
            "image/png": "[encoded data removed]",
            "text/plain": [
              "<Figure size 432x288 with 1 Axes>"
            ]
          },
          "metadata": {
            "tags": [],
            "needs_background": "light"
          }
        }
      ]
    },
    {
      "cell_type": "code",
      "metadata": {
        "id": "2v2mfi1efnqY"
      },
      "source": [
        ""
      ],
      "execution_count": null,
      "outputs": []
    }
  ]
}